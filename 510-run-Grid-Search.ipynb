{
 "cells": [
  {
   "cell_type": "code",
   "execution_count": 1,
   "metadata": {},
   "outputs": [],
   "source": [
    "import xml.etree.ElementTree as etree\n",
    "from glob import glob\n",
    "import json\n",
    "import numpy as np\n",
    "from tqdm import tqdm\n",
    "from sklearn.feature_extraction.text import CountVectorizer, TfidfTransformer\n",
    "from sklearn.naive_bayes import MultinomialNB\n",
    "from sklearn.pipeline import Pipeline"
   ]
  },
  {
   "cell_type": "code",
   "execution_count": 2,
   "metadata": {},
   "outputs": [],
   "source": [
    "def parse_tree(fname):\n",
    "    '''\n",
    "    fname: filename\n",
    "    return: {date: [title, text]} after parsing the xml file\n",
    "    '''\n",
    "    tree = etree.parse(fname)\n",
    "    root = tree.getroot()\n",
    "    subject = []\n",
    "    for idx, wrt in enumerate(root.findall(\"WRITING\")):\n",
    "        title = wrt.find('TITLE').text\n",
    "        if title != None:\n",
    "            title = \" \".join(title.replace('\\n',' ').strip().split())\n",
    "        else:\n",
    "            title = \"\"\n",
    "        \n",
    "        date = wrt.find('DATE').text\n",
    "        if date != None:\n",
    "            date = \" \".join(date.replace('\\n',' ').strip().split())\n",
    "        else:\n",
    "            date = \"\"\n",
    "        \n",
    "        text = wrt.find('TEXT').text\n",
    "        if text != None:\n",
    "            text = \" \".join(text.replace('\\n',' ').strip().split())\n",
    "        else:\n",
    "            text = \"\"\n",
    "        \n",
    "        if date==\"\" and title==\"\" and text==\"\":\n",
    "            continue\n",
    "        \n",
    "        subject.append([date, title, text])\n",
    "        \n",
    "\n",
    "    return subject"
   ]
  },
  {
   "cell_type": "code",
   "execution_count": 3,
   "metadata": {},
   "outputs": [],
   "source": [
    "corpus = []\n",
    "from glob import glob\n",
    "fpaths = sorted(glob(\"train/data/*.xml\"), key=lambda x: int(x[18:-4]))\n",
    "for fp in fpaths:\n",
    "#     print(fp[18:-4])\n",
    "    corpus.append(parse_tree(fp))\n",
    "#     break"
   ]
  },
  {
   "cell_type": "code",
   "execution_count": 4,
   "metadata": {},
   "outputs": [
    {
     "data": {
      "text/plain": [
       "340"
      ]
     },
     "execution_count": 4,
     "metadata": {},
     "output_type": "execute_result"
    }
   ],
   "source": [
    "len(corpus)"
   ]
  },
  {
   "cell_type": "code",
   "execution_count": 5,
   "metadata": {},
   "outputs": [],
   "source": [
    "testset = []\n",
    "from glob import glob\n",
    "# print(glob(\"test/DATA/*.xml\")[0])\n",
    "fpaths = sorted(glob(\"test/DATA/*.xml\"), key=lambda x: int(x[17:-4]))\n",
    "for fp in fpaths:\n",
    "#     print(fp)\n",
    "    testset.append(parse_tree(fp))\n",
    "\n",
    "    \n",
    "file = open(\"test/T1_erisk_golden_truth.txt\", \"r\")\n",
    "lines = file.readlines()\n",
    "file.close()\n",
    "\n",
    "gt_list_test = []\n",
    "for line in lines:\n",
    "    gt = line.split(\" \")\n",
    "    gt[1] = int(gt[1])\n",
    "    gt_list_test.append(gt)\n",
    "#     print(gt)\n",
    "gt_list_test = sorted(gt_list_test, key=lambda x: int(x[0][7:]))\n",
    "Y_test = [elem[1] for elem in gt_list_test]"
   ]
  },
  {
   "cell_type": "code",
   "execution_count": 6,
   "metadata": {},
   "outputs": [],
   "source": [
    "with open(\"corpus.json\", 'w+') as f:\n",
    "    json.dump(corpus, f)"
   ]
  },
  {
   "cell_type": "code",
   "execution_count": 7,
   "metadata": {},
   "outputs": [],
   "source": [
    "file = open(\"train/golden_truth.txt\", \"r\")\n",
    "lines = file.readlines()\n",
    "file.close()\n",
    "\n",
    "gt_list = []\n",
    "for line in lines:\n",
    "    gt = line.split(\" \")\n",
    "    gt[1] = int(gt[1])\n",
    "    gt_list.append(gt)\n",
    "#     print(gt)\n",
    "\n",
    "gt_list = sorted(gt_list, key=lambda x: int(x[0][7:]))"
   ]
  },
  {
   "cell_type": "code",
   "execution_count": 8,
   "metadata": {},
   "outputs": [],
   "source": [
    "gt = [elem[1] for elem in gt_list]"
   ]
  },
  {
   "cell_type": "markdown",
   "metadata": {},
   "source": [
    "# Evaluation Metrics"
   ]
  },
  {
   "cell_type": "code",
   "execution_count": 9,
   "metadata": {},
   "outputs": [
    {
     "data": {
      "text/plain": [
       "0.12058823529411765"
      ]
     },
     "execution_count": 9,
     "metadata": {},
     "output_type": "execute_result"
    }
   ],
   "source": [
    "sum(gt)/len(gt)"
   ]
  },
  {
   "cell_type": "code",
   "execution_count": 10,
   "metadata": {},
   "outputs": [],
   "source": [
    "import copy\n",
    "X_test = copy.deepcopy(testset)\n",
    "for subj in X_test:\n",
    "    for doc in subj:\n",
    "        del doc[0]"
   ]
  },
  {
   "cell_type": "code",
   "execution_count": 11,
   "metadata": {},
   "outputs": [],
   "source": [
    "def evaluate(X_test, Y_test, model, c_fp=0.12, c_fn=1, c_tp=1, o = 0):\n",
    "    '''\n",
    "    X_test: [[title, text]]; size = total number of entries in all subjects; nested array of subject and entries\n",
    "    Y_test: [0/1]; size = # of subjects\n",
    "    model: \n",
    "    return: sum of average score for each subject\n",
    "    '''\n",
    "    erde = []\n",
    "    for (subject, y) in tqdm(zip(X_test, Y_test), total = len(Y_test)):\n",
    "        score = 0\n",
    "        for idx, doc in enumerate(subject):\n",
    "            token = [doc[0]+' '+doc[1]]\n",
    "            pred = model.predict(token)\n",
    "            if y == 0: # negative\n",
    "                if pred == 0:\n",
    "                    score += c_fp\n",
    "                else:\n",
    "                    score += c_fn\n",
    "            else: # positive\n",
    "                if pred == 0:\n",
    "                    pass\n",
    "                else:\n",
    "                    score += c_tp * (1 - 1/(1+np.exp(idx - o)))\n",
    "#         print(score)\n",
    "        erde.append(score)\n",
    "    return erde\n",
    "\n",
    "        \n",
    "            \n",
    "        \n",
    "    "
   ]
  },
  {
   "cell_type": "markdown",
   "metadata": {},
   "source": [
    "# feature extraction"
   ]
  },
  {
   "cell_type": "code",
   "execution_count": 12,
   "metadata": {},
   "outputs": [],
   "source": [
    "# newline-seperated document with title + text\n",
    "new_corpus = []\n",
    "for subj in corpus:\n",
    "    tmp = \"\"\n",
    "    for doc in subj:\n",
    "#         print(doc)\n",
    "        tmp += (doc[1]+\" \"+doc[2]).replace(\"\\'\",\"\")\n",
    "    new_corpus.append(tmp)"
   ]
  },
  {
   "cell_type": "code",
   "execution_count": 13,
   "metadata": {},
   "outputs": [],
   "source": [
    "X_test_feature = []\n",
    "for subj in testset:\n",
    "    tmp = \"\"\n",
    "    for doc in subj:\n",
    "#         print(doc)\n",
    "        tmp += (doc[1]+\" \"+doc[2]).replace(\"\\'\",\"\")\n",
    "    X_test_feature.append(tmp)"
   ]
  },
  {
   "cell_type": "code",
   "execution_count": 34,
   "metadata": {},
   "outputs": [],
   "source": [
    "nums = [len(subj) for subj in X_test]"
   ]
  },
  {
   "cell_type": "markdown",
   "metadata": {},
   "source": [
    "## Naive Bayes"
   ]
  },
  {
   "cell_type": "code",
   "execution_count": 14,
   "metadata": {},
   "outputs": [],
   "source": [
    "from sklearn.pipeline import Pipeline\n",
    "text_clf = Pipeline([('vect', CountVectorizer(stop_words=\"english\", ngram_range=(1,2))),\n",
    "                    ('tfidf', TfidfTransformer()),\n",
    "                     ('clf', MultinomialNB()),\n",
    "])\n",
    "text_clf = text_clf.fit(new_corpus, gt)"
   ]
  },
  {
   "cell_type": "code",
   "execution_count": null,
   "metadata": {},
   "outputs": [],
   "source": [
    "predicted_nb = text_clf.predict(X_test_feature)\n",
    "np.mean(predicted_nb == Y_test)"
   ]
  },
  {
   "cell_type": "code",
   "execution_count": null,
   "metadata": {
    "scrolled": true
   },
   "outputs": [],
   "source": [
    "erde_nb = evaluate(X_test, Y_test, text_clf)"
   ]
  },
  {
   "cell_type": "markdown",
   "metadata": {},
   "source": [
    "## SVM"
   ]
  },
  {
   "cell_type": "code",
   "execution_count": 16,
   "metadata": {},
   "outputs": [
    {
     "data": {
      "text/plain": [
       "0.7754137115839244"
      ]
     },
     "execution_count": 16,
     "metadata": {},
     "output_type": "execute_result"
    }
   ],
   "source": [
    "from sklearn.pipeline import Pipeline\n",
    "from sklearn.linear_model import SGDClassifier\n",
    "text_clf_svm = Pipeline([('vect', CountVectorizer(stop_words=\"english\", ngram_range=(1,2))),\n",
    "                      ('tfidf', TfidfTransformer()),\n",
    "                      ('clf-svm', SGDClassifier(loss='hinge', penalty='l2',\n",
    "                                            alpha=1e-3, random_state=42)),\n",
    "])\n",
    "_ = text_clf_svm.fit(new_corpus, gt)\n",
    "predicted_svm = text_clf_svm.predict(X_test_feature)\n",
    "np.mean(predicted_svm == Y_test)"
   ]
  },
  {
   "cell_type": "code",
   "execution_count": null,
   "metadata": {},
   "outputs": [
    {
     "name": "stderr",
     "output_type": "stream",
     "text": [
      " 12%|█▏        | 52/423 [03:09<29:37,  4.79s/it]"
     ]
    }
   ],
   "source": [
    "erde_svm = evaluate(X_test, Y_test, text_clf_svm)"
   ]
  },
  {
   "cell_type": "markdown",
   "metadata": {},
   "source": [
    "## Grid Search"
   ]
  },
  {
   "cell_type": "code",
   "execution_count": 19,
   "metadata": {},
   "outputs": [
    {
     "data": {
      "text/plain": [
       "0.8250591016548463"
      ]
     },
     "execution_count": 19,
     "metadata": {},
     "output_type": "execute_result"
    }
   ],
   "source": [
    "from sklearn.model_selection import GridSearchCV\n",
    "parameters = {'vect__ngram_range': [(1, 1), (1, 2)],\n",
    "              'tfidf__use_idf': (True, False),\n",
    "              'clf-svm__alpha': (1e-2, 1e-3),\n",
    "}\n",
    "gs_clf = GridSearchCV(text_clf_svm, parameters, n_jobs=-1)\n",
    "gs_clf = gs_clf.fit(new_corpus, gt)\n",
    "predicted_grid = gs_clf.predict(X_test_feature)\n",
    "np.mean(predicted_grid == Y_test)"
   ]
  },
  {
   "cell_type": "code",
   "execution_count": 35,
   "metadata": {},
   "outputs": [
    {
     "data": {
      "text/plain": [
       "0.47142857142857136"
      ]
     },
     "execution_count": 35,
     "metadata": {},
     "output_type": "execute_result"
    }
   ],
   "source": [
    "from sklearn.metrics import f1_score\n",
    "f1_score(predicted_grid, Y_test)"
   ]
  },
  {
   "cell_type": "code",
   "execution_count": 20,
   "metadata": {},
   "outputs": [
    {
     "name": "stderr",
     "output_type": "stream",
     "text": [
      " 27%|██▋       | 116/423 [00:08<00:17, 17.89it/s]<ipython-input-11-c8fdd5f46477>:23: RuntimeWarning: overflow encountered in exp\n",
      "  score += c_tp * (1 - 1/(1+np.exp(idx - o)))\n",
      "100%|██████████| 423/423 [00:32<00:00, 12.90it/s]\n"
     ]
    }
   ],
   "source": [
    "erde_gs = evaluate(X_test, Y_test, gs_clf)"
   ]
  },
  {
   "cell_type": "code",
   "execution_count": 21,
   "metadata": {},
   "outputs": [
    {
     "data": {
      "text/plain": [
       "[4.480000000000002,\n",
       " 24.72000000000001,\n",
       " 8.640000000000002,\n",
       " 0,\n",
       " 55.639999999999716,\n",
       " 13.199999999999976,\n",
       " 10.999999166410817,\n",
       " 4.731058578630005,\n",
       " 5.093527952340727,\n",
       " 16.99998329857815,\n",
       " 30.999876605424014,\n",
       " 2.499999694097082,\n",
       " 12.759999999999977,\n",
       " 0.9975273768433652,\n",
       " 2.6800000000000006,\n",
       " 3.640000000000002,\n",
       " 1.5600000000000005,\n",
       " 6.520000000000004,\n",
       " 10.799999999999985,\n",
       " 16.039999999999957,\n",
       " 1.9200000000000008,\n",
       " 2.4000000000000012,\n",
       " 6.497527376842674,\n",
       " 115.000000000001,\n",
       " 10.999999692036619,\n",
       " 24.640000000000004,\n",
       " 3.3200000000000003,\n",
       " 8.993304888751418,\n",
       " 8.999999999994856,\n",
       " 11.599999999999989,\n",
       " 63.199999999999434,\n",
       " 26.800000000000036,\n",
       " 5.240000000000002,\n",
       " 45.03999999999983,\n",
       " 15.559999999999954,\n",
       " 1.0,\n",
       " 6.880000000000004,\n",
       " 56.879999999999605,\n",
       " 1.3200000000000003,\n",
       " 3.5200000000000014,\n",
       " 4.080000000000003,\n",
       " 4.680000000000003,\n",
       " 2.3200000000000007,\n",
       " 5.320000000000003,\n",
       " 9.919999999999993,\n",
       " 0.9525741268224333,\n",
       " 22.840000000000014,\n",
       " 0,\n",
       " 54.67999999999956,\n",
       " 71.31999999999974,\n",
       " 7.862475390120135,\n",
       " 36.08000000000001,\n",
       " 25.720000000000038,\n",
       " 63.999999999999446,\n",
       " 100.88000000000068,\n",
       " 104.96000000000073,\n",
       " 38.959999999999965,\n",
       " 1.9999999999999953,\n",
       " 0.9999999999622486,\n",
       " 19.999999694097774,\n",
       " 204.88000000000426,\n",
       " 5.665522795007024,\n",
       " 65.43999999999951,\n",
       " 28.999999999236636,\n",
       " 6.240000000000005,\n",
       " 178.64000000000297,\n",
       " 126.0800000000014,\n",
       " 13.159999999999975,\n",
       " 24.64000000000002,\n",
       " 5.560000000000003,\n",
       " 9.959999999999994,\n",
       " 6.480000000000005,\n",
       " 34.12000000000001,\n",
       " 0.9933071490757152,\n",
       " 22.999999999999996,\n",
       " 66.11999999999948,\n",
       " 19.439999999999984,\n",
       " 8.440000000000003,\n",
       " 2.3807969654427206,\n",
       " 8.999999999999996,\n",
       " 70.83999999999963,\n",
       " 1.3200000000000003,\n",
       " 265.6800000000061,\n",
       " 57.7599999999996,\n",
       " 0.9996646498695335,\n",
       " 1.08,\n",
       " 44.07999999999989,\n",
       " 3.120000000000002,\n",
       " 32.36000000000006,\n",
       " 4.731041761853585,\n",
       " 5.640000000000004,\n",
       " 9.0,\n",
       " 21.280000000000005,\n",
       " 100.20000000000056,\n",
       " 4.9200000000000035,\n",
       " 7.999999153241992,\n",
       " 0.9975273768433652,\n",
       " 14.999999999222654,\n",
       " 26.440000000000012,\n",
       " 47.51999999999976,\n",
       " 6.840000000000005,\n",
       " 118.84000000000151,\n",
       " 15.799999999999962,\n",
       " 24.000000000000025,\n",
       " 1.4400000000000004,\n",
       " 3.160000000000001,\n",
       " 31.24000000000007,\n",
       " 2.5600000000000014,\n",
       " 40.47999999999989,\n",
       " 24.76000000000003,\n",
       " 18.639999999999976,\n",
       " 4.240000000000002,\n",
       " 2.871631603896963,\n",
       " 3.6108992075447843,\n",
       " 6.240000000000005,\n",
       " 8.200000000000005,\n",
       " 16.319999999999975,\n",
       " 1.9998743450997158,\n",
       " 3.8400000000000025,\n",
       " 81.0,\n",
       " 165.44000000000244,\n",
       " 0,\n",
       " 10.999999694097774,\n",
       " 5.040000000000004,\n",
       " 3.6000000000000023,\n",
       " 103.48000000000091,\n",
       " 109.960000000001,\n",
       " 50.9999999943972,\n",
       " 29.160000000000043,\n",
       " 3.8144739436438235,\n",
       " 193.0400000000033,\n",
       " 1.2000000000000002,\n",
       " 12.919999999999986,\n",
       " 86.00000000000016,\n",
       " 18.999999999999986,\n",
       " 3.7200000000000024,\n",
       " 28.600000000000065,\n",
       " 13.759999999999973,\n",
       " 180.12000000000342,\n",
       " 12.559999999999974,\n",
       " 7.480000000000002,\n",
       " 8.49328724326534,\n",
       " 186.04000000000354,\n",
       " 202.28000000000364,\n",
       " 50.67999999999975,\n",
       " 6.080000000000003,\n",
       " 52.95999999999966,\n",
       " 13.799999999999969,\n",
       " 124.96000000000134,\n",
       " 40.31999999999991,\n",
       " 2.040000000000001,\n",
       " 47.11999999999978,\n",
       " 3.9600000000000026,\n",
       " 3.8800000000000017,\n",
       " 3.7200000000000024,\n",
       " 44.87999999999988,\n",
       " 3.8800000000000017,\n",
       " 45.07999999999982,\n",
       " 7.840000000000005,\n",
       " 6.640000000000004,\n",
       " 9.239999999999998,\n",
       " 1.6800000000000006,\n",
       " 1.0,\n",
       " 3.8800000000000017,\n",
       " 95.04000000000045,\n",
       " 5.879550256154473,\n",
       " 0.9999999999981205,\n",
       " 36.99999999999999,\n",
       " 1.9999832985762724,\n",
       " 33.40000000000005,\n",
       " 137.12000000000197,\n",
       " 3.981997083013264,\n",
       " 6.480000000000005,\n",
       " 1.8000000000000007,\n",
       " 22.96,\n",
       " 2.4000000000000012,\n",
       " 20.599999999999998,\n",
       " 7.320000000000006,\n",
       " 9.639999999999995,\n",
       " 24.28000000000003,\n",
       " 0.9999938558253978,\n",
       " 16.999999999999964,\n",
       " 41.87999999999988,\n",
       " 2.3200000000000007,\n",
       " 13.559999999999974,\n",
       " 1.7310585785922536,\n",
       " 6.840000000000005,\n",
       " 8.840000000000003,\n",
       " 8.731058578630005,\n",
       " 19.07999999999998,\n",
       " 6.360000000000005,\n",
       " 17.993307149070606,\n",
       " 2.280000000000001,\n",
       " 8.6,\n",
       " 9.839999999999995,\n",
       " 0.9999999979388464,\n",
       " 11.679999999999982,\n",
       " 11.279999999999985,\n",
       " 58.39999999999959,\n",
       " 2.160000000000001,\n",
       " 137.3200000000019,\n",
       " 1.99995377060327,\n",
       " 5.240000000000002,\n",
       " 28.760000000000055,\n",
       " 1.9999832571787763,\n",
       " 4.9999999999999485,\n",
       " 112.04000000000124,\n",
       " 4.400000000000001,\n",
       " 0.9999999999999873,\n",
       " 52.83999999999978,\n",
       " 7.213071493677477,\n",
       " 1.9999832985762724,\n",
       " 8.373174196821918,\n",
       " 75.95999999999995,\n",
       " 216.7600000000047,\n",
       " 0.9975273768433652,\n",
       " 14.159999999999979,\n",
       " 6.640000000000004,\n",
       " 0,\n",
       " 63.719999999999466,\n",
       " 18.79999999999998,\n",
       " 187.64000000000362,\n",
       " 34.400000000000034,\n",
       " 0.9998766054240138,\n",
       " 22.640000000000015,\n",
       " 2.9999999999946363,\n",
       " 3.6000000000000023,\n",
       " 63.35999999999946,\n",
       " 42.31999999999987,\n",
       " 3.360000000000002,\n",
       " 3.730147527435557,\n",
       " 61.11999999999955,\n",
       " 1.2000000000000002,\n",
       " 52.439999999999735,\n",
       " 10.35999999999999,\n",
       " 7.080000000000005,\n",
       " 50.35999999999973,\n",
       " 111.56000000000117,\n",
       " 87.48000000000027,\n",
       " 2.5600000000000005,\n",
       " 5.499825048150729,\n",
       " 7.680000000000006,\n",
       " 2.040000000000001,\n",
       " 98.24000000000058,\n",
       " 36.83999999999996,\n",
       " 54.199999999999655,\n",
       " 160.16000000000264,\n",
       " 13.71999999999998,\n",
       " 0,\n",
       " 12.519999999999976,\n",
       " 21.28000000000001,\n",
       " 75.43999999999986,\n",
       " 0,\n",
       " 57.919999999999575,\n",
       " 6.999999887464838,\n",
       " 16.279999999999962,\n",
       " 35.360000000000014,\n",
       " 7.999999999994891,\n",
       " 0,\n",
       " 146.00000000000227,\n",
       " 4.999999887464838,\n",
       " 10.999999999999993,\n",
       " 2.6835873075837355,\n",
       " 15.999999999999961,\n",
       " 1.683632705452438,\n",
       " 0.9999999999999999,\n",
       " 3.480000000000002,\n",
       " 3.9818900895596956,\n",
       " 253.64000000000607,\n",
       " 0.9525741268224333,\n",
       " 28.760000000000048,\n",
       " 0.9996646498695335,\n",
       " 2.499954596528501,\n",
       " 6.040000000000004,\n",
       " 2.0800000000000005,\n",
       " 3.99908798951243,\n",
       " 16.799999999999972,\n",
       " 5.320000000000003,\n",
       " 1.9999976982763266,\n",
       " 22.800000000000022,\n",
       " 5.952573294257203,\n",
       " 1.7310585765688513,\n",
       " 6.400000000000004,\n",
       " 25.880000000000027,\n",
       " 6.640000000000002,\n",
       " 123.32000000000127,\n",
       " 9.359999999999998,\n",
       " 11.999999999999979,\n",
       " 2.6400000000000015,\n",
       " 4.480000000000002,\n",
       " 26.96000000000005,\n",
       " 13.479999999999977,\n",
       " 0,\n",
       " 3.932098592281859,\n",
       " 24.920000000000023,\n",
       " 72.3599999999998,\n",
       " 9.999999999999993,\n",
       " 4.440000000000003,\n",
       " 50.03999999999971,\n",
       " 26.520000000000042,\n",
       " 145.80000000000214,\n",
       " 64.71999999999947,\n",
       " 1.6800000000000006,\n",
       " 0.9820137900379085,\n",
       " 16.639999999999972,\n",
       " 22.119999999999997,\n",
       " 48.03999999999977,\n",
       " 2.9990889018034275,\n",
       " 127.6800000000017,\n",
       " 6.600000000000002,\n",
       " 140.20000000000192,\n",
       " 2.0,\n",
       " 15.799999999999965,\n",
       " 2.8800000000000017,\n",
       " 60.83999999999954,\n",
       " 65.23999999999967,\n",
       " 30.720000000000077,\n",
       " 1.6800000000000006,\n",
       " 4.360000000000002,\n",
       " 52.87999999999966,\n",
       " 20.109331490606834,\n",
       " 88.72000000000016,\n",
       " 5.831984707477614,\n",
       " 9.719999999999995,\n",
       " 0,\n",
       " 34.760000000000005,\n",
       " 24.080000000000027,\n",
       " 149.6800000000022,\n",
       " 37.59999999999997,\n",
       " 104.24000000000086,\n",
       " 8.73067770258671,\n",
       " 3.6000000000000023,\n",
       " 0,\n",
       " 10.199999999999992,\n",
       " 15.799999999999962,\n",
       " 25.160000000000007,\n",
       " 95.40000000000067,\n",
       " 11.719999999999994,\n",
       " 11.959999999999992,\n",
       " 1.5600000000000005,\n",
       " 89.92000000000036,\n",
       " 153.9200000000024,\n",
       " 26.840000000000042,\n",
       " 32.72000000000008,\n",
       " 6.240000000000005,\n",
       " 13.67999999999997,\n",
       " 10.999664649869533,\n",
       " 52.43999999999977,\n",
       " 38.24,\n",
       " 4.560000000000003,\n",
       " 9.639999999999997,\n",
       " 23.600000000000023,\n",
       " 96.08000000000042,\n",
       " 1.3200000000000003,\n",
       " 0,\n",
       " 45.959999999999816,\n",
       " 46.75999999999977,\n",
       " 153.12000000000245,\n",
       " 69.5999999999997,\n",
       " 22.240000000000006,\n",
       " 21.400000000000023,\n",
       " 83.16000000000001,\n",
       " 131.2400000000016,\n",
       " 51.199999999999726,\n",
       " 62.319999999999474,\n",
       " 9.079999999999997,\n",
       " 27.800000000000015,\n",
       " 2.952450690847072,\n",
       " 6.080000000000003,\n",
       " 16.997190714393447,\n",
       " 6.720000000000002,\n",
       " 30.80000000000008,\n",
       " 14.159999999999966,\n",
       " 2.6835093108764516,\n",
       " 217.20000000000454,\n",
       " 23.52,\n",
       " 67.91999999999966,\n",
       " 14.07999999999997,\n",
       " 7.360000000000005,\n",
       " 19.27999999999998,\n",
       " 2.920000000000001,\n",
       " 1.8000000000000007,\n",
       " 2.160000000000001,\n",
       " 17.66550556585169,\n",
       " 83.80000000000015,\n",
       " 18.279999999999983,\n",
       " 5.228462560515819,\n",
       " 134.08000000000192,\n",
       " 1.8000000000000007,\n",
       " 4.560000000000003,\n",
       " 15.839999999999955,\n",
       " 5.982013789921135,\n",
       " 8.64,\n",
       " 143.36000000000226,\n",
       " 4.9200000000000035,\n",
       " 5.200000000000003,\n",
       " 16.862810868015792,\n",
       " 6.0,\n",
       " 1.4400000000000004,\n",
       " 37.23999999999995,\n",
       " 22.68,\n",
       " 1.08,\n",
       " 6.400000000000004,\n",
       " 30.360000000000053,\n",
       " 5.400000000000004,\n",
       " 42.079999999999906,\n",
       " 12.479999999999995,\n",
       " 41.63999999999988,\n",
       " 21.43999999999999,\n",
       " 84.48000000000006,\n",
       " 2.2,\n",
       " 2.0800000000000005,\n",
       " 14.719999999999985,\n",
       " 7.160000000000005,\n",
       " 2.9999998874219775,\n",
       " 5.362810515111392,\n",
       " 253.760000000006,\n",
       " 4.676937593445599,\n",
       " 0.9933071490757152,\n",
       " 84.92000000000012,\n",
       " 43.31999999999983,\n",
       " 1.6800000000000006,\n",
       " 35.199999999999996]"
      ]
     },
     "execution_count": 21,
     "metadata": {},
     "output_type": "execute_result"
    }
   ],
   "source": [
    "erde_gs"
   ]
  },
  {
   "cell_type": "code",
   "execution_count": 26,
   "metadata": {},
   "outputs": [],
   "source": [
    "t = np.array([v/nums[idx] for idx, v in enumerate(erde_gs)])"
   ]
  },
  {
   "cell_type": "code",
   "execution_count": 46,
   "metadata": {},
   "outputs": [],
   "source": [
    "def rank_and_save(erde_gs, fpaths, output_name):\n",
    "    scores = np.array([v/nums[idx] for idx, v in enumerate(erde_gs)])\n",
    "    ranking_result = []\n",
    "    for value, file in zip(scores, fpaths):\n",
    "        ranking_result.append((value, file))\n",
    "    ranking_result.sort(reverse=True)\n",
    "    with open(output_name, \"w\", encoding=\"utf-8\") as f:\n",
    "        for v, p in ranking_result:\n",
    "            f.write(f\"{v} {p}\\n\")\n",
    "rank_and_save(erde_gs, fpaths, \"Grid Search Rank.txt\")"
   ]
  },
  {
   "cell_type": "code",
   "execution_count": 27,
   "metadata": {},
   "outputs": [
    {
     "data": {
      "text/plain": [
       "322"
      ]
     },
     "execution_count": 27,
     "metadata": {},
     "output_type": "execute_result"
    }
   ],
   "source": [
    "t.argmax()"
   ]
  },
  {
   "cell_type": "code",
   "execution_count": 30,
   "metadata": {},
   "outputs": [
    {
     "data": {
      "text/plain": [
       "(0.44861420826750875,\n",
       " [['', 'made me laugh you dick'],\n",
       "  ['', 'sorry but itll probably get worse'],\n",
       "  ['', 'gang im 18'],\n",
       "  ['me when i styro a cut rly bad and get lowkey scared of tetanus cus i forgot if im vaccinated',\n",
       "   ''],\n",
       "  ['', 'what the heck is booty juice'],\n",
       "  ['', 'oh im usually just given some sedatives lol'],\n",
       "  ['', 'omg relatable'],\n",
       "  ['me when i start the ABC diet and realize im allowed to eat more on it than i do when not dieting',\n",
       "   ''],\n",
       "  ['', 'could you rephrase? i dont understand cus im dummi'],\n",
       "  ['', 'ohh rip im sry :((('],\n",
       "  ['',\n",
       "   'im usually below 200-300 but the first day of abc is 500 so thats epic stylur'],\n",
       "  ['', 'ill probably do it or maybe 450 idk'],\n",
       "  ['',\n",
       "   'I dunno how much is safe but if you overdose these symptoms could happen: -sleepiness -nausea or vomiting -dizziness -fever -confusion -rapid heartbeat -agitation -shakiness and if you do more than that then you could get -fainting -heart problems -changes in blood pressure -seizures -delirium -hallucinations -stupor -mania']])"
      ]
     },
     "execution_count": 30,
     "metadata": {},
     "output_type": "execute_result"
    }
   ],
   "source": [
    "t[322], X_test[322]"
   ]
  },
  {
   "cell_type": "code",
   "execution_count": 32,
   "metadata": {},
   "outputs": [
    {
     "data": {
      "text/plain": [
       "(1, 13)"
      ]
     },
     "execution_count": 32,
     "metadata": {},
     "output_type": "execute_result"
    }
   ],
   "source": [
    "Y_test[322], len(X_test[322])"
   ]
  },
  {
   "cell_type": "code",
   "execution_count": 33,
   "metadata": {},
   "outputs": [
    {
     "data": {
      "text/plain": [
       "'test/DATA\\\\subject7803.xml'"
      ]
     },
     "execution_count": 33,
     "metadata": {},
     "output_type": "execute_result"
    }
   ],
   "source": [
    "fpaths[322]"
   ]
  },
  {
   "cell_type": "markdown",
   "metadata": {},
   "source": [
    "## GradientBoost\n"
   ]
  },
  {
   "cell_type": "code",
   "execution_count": 196,
   "metadata": {},
   "outputs": [
    {
     "data": {
      "text/plain": [
       "0.7966903073286052"
      ]
     },
     "execution_count": 196,
     "metadata": {},
     "output_type": "execute_result"
    }
   ],
   "source": [
    "from sklearn.ensemble import GradientBoostingClassifier\n",
    "text_clf_gbbost = Pipeline([('vect', CountVectorizer(stop_words=\"english\", ngram_range=(1,2))),\n",
    "                      ('tfidf', TfidfTransformer()),\n",
    "                      ('clf-gboost', GradientBoostingClassifier(n_estimators=100, learning_rate=1.0,\n",
    "    max_depth=1, random_state=0))\n",
    "])\n",
    "_ = text_clf_gbbost.fit(new_corpus, gt)\n",
    "predicted_xgboost = text_clf_gbbost.predict(X_test_feature)\n",
    "np.mean(predicted_xgboost == Y_test)"
   ]
  },
  {
   "cell_type": "code",
   "execution_count": null,
   "metadata": {},
   "outputs": [],
   "source": [
    "erde_gb = evaluate(X_test, Y_test, text_clf_gbbost)"
   ]
  },
  {
   "cell_type": "markdown",
   "metadata": {},
   "source": [
    "## Adaboost"
   ]
  },
  {
   "cell_type": "code",
   "execution_count": 200,
   "metadata": {},
   "outputs": [
    {
     "data": {
      "text/plain": [
       "0.8652482269503546"
      ]
     },
     "execution_count": 200,
     "metadata": {},
     "output_type": "execute_result"
    }
   ],
   "source": [
    "from sklearn.ensemble import AdaBoostClassifier\n",
    "text_clf_ada = Pipeline([\n",
    "                      ('vect', CountVectorizer(stop_words=\"english\", ngram_range=(1,2))),\n",
    "                      ('tfidf', TfidfTransformer()),\n",
    "                      ('clf-ada', AdaBoostClassifier(n_estimators=100)),\n",
    "])\n",
    "_ = text_clf_ada.fit(new_corpus, gt)\n",
    "predicted_adaboost = text_clf_ada.predict(X_test_feature)\n",
    "np.mean(predicted_adaboost == Y_test)"
   ]
  },
  {
   "cell_type": "code",
   "execution_count": null,
   "metadata": {},
   "outputs": [],
   "source": [
    "erde_ada = evaluate(X_test, Y_test, text_clf_ada)"
   ]
  },
  {
   "cell_type": "code",
   "execution_count": null,
   "metadata": {},
   "outputs": [],
   "source": []
  }
 ],
 "metadata": {
  "kernelspec": {
   "display_name": "Python 3",
   "language": "python",
   "name": "python3"
  },
  "language_info": {
   "codemirror_mode": {
    "name": "ipython",
    "version": 3
   },
   "file_extension": ".py",
   "mimetype": "text/x-python",
   "name": "python",
   "nbconvert_exporter": "python",
   "pygments_lexer": "ipython3",
   "version": "3.8.5"
  }
 },
 "nbformat": 4,
 "nbformat_minor": 2
}
